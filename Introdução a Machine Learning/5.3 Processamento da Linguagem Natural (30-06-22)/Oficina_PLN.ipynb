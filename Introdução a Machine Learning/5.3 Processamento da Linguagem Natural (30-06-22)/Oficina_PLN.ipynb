{
 "cells": [
  {
   "cell_type": "markdown",
   "metadata": {},
   "source": [
    "### Bibliotecas necessárias"
   ]
  },
  {
   "cell_type": "code",
   "execution_count": 6,
   "metadata": {},
   "outputs": [
    {
     "name": "stdout",
     "output_type": "stream",
     "text": [
      "Requirement already satisfied: nltk in /home/rafael/Learn/Python/Introdução a Machine Learning/env/lib/python3.10/site-packages (3.7)\n",
      "Requirement already satisfied: regex>=2021.8.3 in /home/rafael/Learn/Python/Introdução a Machine Learning/env/lib/python3.10/site-packages (from nltk) (2022.6.2)\n",
      "Requirement already satisfied: tqdm in /home/rafael/Learn/Python/Introdução a Machine Learning/env/lib/python3.10/site-packages (from nltk) (4.64.0)\n",
      "Requirement already satisfied: click in /home/rafael/Learn/Python/Introdução a Machine Learning/env/lib/python3.10/site-packages (from nltk) (8.1.3)\n",
      "Requirement already satisfied: joblib in /home/rafael/Learn/Python/Introdução a Machine Learning/env/lib/python3.10/site-packages (from nltk) (1.1.0)\n"
     ]
    }
   ],
   "source": [
    "! pip install nltk"
   ]
  },
  {
   "cell_type": "code",
   "execution_count": 13,
   "metadata": {},
   "outputs": [],
   "source": [
    "import nltk\n",
    "from nltk.tokenize import word_tokenize\n",
    "from sklearn.feature_extraction.text import TfidfVectorizer\n",
    "import pandas as pd"
   ]
  },
  {
   "cell_type": "markdown",
   "metadata": {},
   "source": [
    "### Pacotes necessários"
   ]
  },
  {
   "cell_type": "code",
   "execution_count": 15,
   "metadata": {},
   "outputs": [
    {
     "name": "stderr",
     "output_type": "stream",
     "text": [
      "[nltk_data] Downloading package stopwords to /home/rafael/nltk_data...\n",
      "[nltk_data]   Package stopwords is already up-to-date!\n",
      "[nltk_data] Downloading package punkt to /home/rafael/nltk_data...\n",
      "[nltk_data]   Package punkt is already up-to-date!\n"
     ]
    },
    {
     "data": {
      "text/plain": [
       "True"
      ]
     },
     "execution_count": 15,
     "metadata": {},
     "output_type": "execute_result"
    }
   ],
   "source": [
    "nltk.download('stopwords')\n",
    "stopwords = nltk.corpus.stopwords.words('portuguese')\n",
    "nltk.download('punkt')"
   ]
  },
  {
   "cell_type": "markdown",
   "metadata": {},
   "source": [
    "Use a variável texto a seguir para identificar as stop words\n",
    "e após isso aplique o cáculo do **TF-IDF** neste mesmo texto e observe os scores."
   ]
  },
  {
   "cell_type": "markdown",
   "metadata": {},
   "source": [
    "**OBS:** Para realizar essa tarefa utilize os módulos estudados na aula"
   ]
  },
  {
   "cell_type": "code",
   "execution_count": 9,
   "metadata": {},
   "outputs": [],
   "source": [
    "texto = 'Um carro azul seguia rapidamente em uma rodovia, e ao passar por um buraco, o carro furou o pneu, e o motorista desceu do carro azul'"
   ]
  },
  {
   "cell_type": "code",
   "execution_count": 12,
   "metadata": {},
   "outputs": [],
   "source": [
    "tf_idf = TfidfVectorizer()\n",
    "vetor = tf_idf.fit_transform([texto])\n",
    "vetor = vetor.todense()\n",
    "nomes = tf_idf.get_feature_names_out()"
   ]
  },
  {
   "cell_type": "code",
   "execution_count": 16,
   "metadata": {},
   "outputs": [
    {
     "name": "stdout",
     "output_type": "stream",
     "text": [
      "Um\n",
      "carro\n",
      "azul\n",
      "seguia\n",
      "rapidamente\n",
      "rodovia\n",
      ",\n",
      "passar\n",
      "buraco\n",
      ",\n",
      "carro\n",
      "furou\n",
      "pneu\n",
      ",\n",
      "motorista\n",
      "desceu\n",
      "carro\n",
      "azul\n"
     ]
    }
   ],
   "source": [
    "tokens = word_tokenize(texto)\n",
    "\n",
    "for t in tokens:\n",
    "  if t not in stopwords:\n",
    "    print(t)"
   ]
  },
  {
   "cell_type": "code",
   "execution_count": 17,
   "metadata": {},
   "outputs": [
    {
     "name": "stdout",
     "output_type": "stream",
     "text": [
      "         ao      azul    buraco     carro    desceu        do        em  \\\n",
      "0  0.179605  0.359211  0.179605  0.538816  0.179605  0.179605  0.179605   \n",
      "\n",
      "      furou  motorista    passar      pneu       por  rapidamente   rodovia  \\\n",
      "0  0.179605   0.179605  0.179605  0.179605  0.179605     0.179605  0.179605   \n",
      "\n",
      "     seguia        um       uma  \n",
      "0  0.179605  0.359211  0.179605  \n"
     ]
    }
   ],
   "source": [
    "df = pd.DataFrame(vetor, columns=nomes)\n",
    "print(df)"
   ]
  }
 ],
 "metadata": {
  "kernelspec": {
   "display_name": "Python 3.10.5 ('env': venv)",
   "language": "python",
   "name": "python3"
  },
  "language_info": {
   "codemirror_mode": {
    "name": "ipython",
    "version": 3
   },
   "file_extension": ".py",
   "mimetype": "text/x-python",
   "name": "python",
   "nbconvert_exporter": "python",
   "pygments_lexer": "ipython3",
   "version": "3.10.5"
  },
  "vscode": {
   "interpreter": {
    "hash": "a88247dea13602bfcd2462020068ad939a2567508a6552a427b1e749f46e053f"
   }
  }
 },
 "nbformat": 4,
 "nbformat_minor": 4
}
